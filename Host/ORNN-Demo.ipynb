{
 "cells": [
  {
   "cell_type": "markdown",
   "id": "4400c355",
   "metadata": {},
   "source": [
    "## Upload the .rbf\n",
    "\n",
    "Upload the .rbf file of ORNN accelerator using the provided `make` file. Make sure that all the 8 leds go high indicating that the accelerator rbf is uploaded."
   ]
  },
  {
   "cell_type": "code",
   "execution_count": 1,
   "id": "44740a4e",
   "metadata": {},
   "outputs": [
    {
     "name": "stdout",
     "output_type": "stream",
     "text": [
      "cp DE10_NANO.rbf /lib/firmware/\n",
      "dtbocfg.rb --install soc_system --dts soc_system.dts\n"
     ]
    }
   ],
   "source": [
    "!make install"
   ]
  },
  {
   "cell_type": "markdown",
   "id": "53aef629",
   "metadata": {},
   "source": [
    "## Necessary Imports"
   ]
  },
  {
   "cell_type": "code",
   "execution_count": 2,
   "id": "9c70283e",
   "metadata": {},
   "outputs": [],
   "source": [
    "import time\n",
    "import numpy as np\n",
    "from pycy import *\n",
    "from PIL import Image"
   ]
  },
  {
   "cell_type": "markdown",
   "id": "28a7a4f9",
   "metadata": {},
   "source": [
    "## Quantizing the Input\n",
    "\n",
    "Next we will define a function for quantizing the input image in signed 8-bits i.e., Q1.7 format and packing it to 64-bits. We will discuss it later in the section in defining io buffers."
   ]
  },
  {
   "cell_type": "code",
   "execution_count": 10,
   "id": "bd3e6bef",
   "metadata": {},
   "outputs": [],
   "source": [
    "def preprocess_image(inp):\n",
    "    inp = np.clip(inp, -1, 1-2**-7)\n",
    "    inp = np.round(inp*2**7)\n",
    "    inp = inp.astype(np.int8).view(np.uint64)\n",
    "    return inp"
   ]
  },
  {
   "cell_type": "markdown",
   "id": "6d4fc442",
   "metadata": {},
   "source": [
    "## Register Address of the Accelerator\n",
    "\n",
    "Here we will define the necessary register addresses for controlling the ORNN accelerator. These addresses are taken directly from the files `hps_0.h` and `ACCL_TOP_csr.h`."
   ]
  },
  {
   "cell_type": "code",
   "execution_count": 11,
   "id": "8043f11a",
   "metadata": {},
   "outputs": [],
   "source": [
    "accl_offset = 0xff200000\n",
    "start_reg = 0x8\n",
    "interrupt_enable_reg = 0x10\n",
    "interrupt_status_reg = 0x18\n",
    "input_buffer_reg = 0x20\n",
    "output_buffer_reg = 0x28\n",
    "seq_len_reg = 0x30"
   ]
  },
  {
   "cell_type": "markdown",
   "id": "57edb348",
   "metadata": {},
   "source": [
    "## Defining IO buffer\n",
    "\n",
    "We will not define contigious memory buffers for reading and writing from the accelerator. These buffers will hold the input which is to be passed to the accelerator, and the output scores given by the acclerator. Moreover these buffers will be 64-bit buffers as the width of the avalon bridge is 64-bits. THe `cma_buffer` class is defined in the `pycy.py` file."
   ]
  },
  {
   "cell_type": "code",
   "execution_count": 12,
   "id": "82c10ff2",
   "metadata": {},
   "outputs": [],
   "source": [
    "SEQ_LEN = 35\n",
    "INPUT_BW = 8\n",
    "OUTPUT_BW = 16\n",
    "ELEMENTS_IN = 16*SEQ_LEN*INPUT_BW//64 \n",
    "ELEMENTS_OUT = 16*SEQ_LEN*OUTPUT_BW//64\n",
    "array_a = cma_buffer(ELEMENTS_IN, np.uint64)\n",
    "array_b = cma_buffer(ELEMENTS_OUT, np.uint64)"
   ]
  },
  {
   "cell_type": "markdown",
   "id": "455d38f7",
   "metadata": {},
   "source": [
    "## Instantiating the driver\n",
    "\n",
    "Now we will used the class `Device_Driver` defined in the `pycy.py` file to create a python driver which allows us to interact with the accelerator with ease. This driver will be used to control the acclerator, pass the io buffers and setting the different input arguments. \n",
    "\n",
    "Moreover we will also pass the address of the cma buffers for input output to the accelerator."
   ]
  },
  {
   "cell_type": "code",
   "execution_count": 13,
   "id": "b71ddad3",
   "metadata": {},
   "outputs": [],
   "source": [
    "ACCL_TOP_csr = Device_Driver(accl_offset, 64)\n",
    "ACCL_TOP_csr.write(input_buffer_reg,  array_a.physical_address)\n",
    "ACCL_TOP_csr.write(output_buffer_reg, array_b.physical_address)\n",
    "ACCL_TOP_csr.write(seq_len_reg, SEQ_LEN)\n",
    "ACCL_TOP_csr.write(interrupt_enable_reg, 0)\n",
    "ACCL_TOP_csr.write(interrupt_status_reg, 0x00)\n"
   ]
  },
  {
   "cell_type": "markdown",
   "id": "f579da13",
   "metadata": {},
   "source": [
    "# Single File Test\n",
    "\n",
    "Now we are ready to pass the input. We will use the same input file which was used for the accelerator csim verification."
   ]
  },
  {
   "cell_type": "code",
   "execution_count": 14,
   "id": "5c07a984",
   "metadata": {},
   "outputs": [],
   "source": [
    "file = np.loadtxt(\"../Training/export/QORNN_W4R4/test_image.txt\")\n",
    "q_file = preprocess_image(file)\n",
    "array_a.write(q_file)"
   ]
  },
  {
   "cell_type": "markdown",
   "id": "488a4f78",
   "metadata": {},
   "source": [
    "## Start the accelerator\n",
    "\n",
    "Lets now start the accelerator by writing 1 to the start register and wait until its complete."
   ]
  },
  {
   "cell_type": "code",
   "execution_count": 15,
   "id": "82c1e773",
   "metadata": {},
   "outputs": [],
   "source": [
    "ACCL_TOP_csr.write(start_reg, 1)\n",
    "start_time = time.time()\n",
    "while(not (ACCL_TOP_csr.read(interrupt_status_reg) & 0x2)):\n",
    "    pass"
   ]
  },
  {
   "cell_type": "markdown",
   "id": "2054a790",
   "metadata": {},
   "source": [
    "Let look at the predicted value now which is written to the output buffer by the accelerator. Rememeber that the output type of the accelerator is values is 16-bits i.e., Q6.10 format."
   ]
  },
  {
   "cell_type": "code",
   "execution_count": 16,
   "id": "dddaf3b7",
   "metadata": {},
   "outputs": [
    {
     "name": "stdout",
     "output_type": "stream",
     "text": [
      "Prediction = 4\n"
     ]
    }
   ],
   "source": [
    "pred = array_b.read().view(np.int16)\n",
    "pred = pred/2**10\n",
    "max_val = 0\n",
    "for i in range(SEQ_LEN):\n",
    "    max_val = 0\n",
    "    max_score = pred[i*16]\n",
    "    for j in range(16):\n",
    "        if j<10:\n",
    "            if pred[i*16+j] >= max_score:\n",
    "                max_score = pred[i*16+j]\n",
    "                max_val = j\n",
    "\n",
    "print(\"Prediction = {}\".format(max_val))"
   ]
  },
  {
   "cell_type": "markdown",
   "id": "df87f608",
   "metadata": {},
   "source": [
    "## Free the Accelerator"
   ]
  },
  {
   "cell_type": "code",
   "execution_count": 17,
   "id": "c7a6ead4",
   "metadata": {},
   "outputs": [
    {
     "name": "stdout",
     "output_type": "stream",
     "text": [
      "dtbocfg.rb --remove soc_system\n",
      "rm -f /lib/firmware/DE10_NANO.rbf\n"
     ]
    }
   ],
   "source": [
    "!make uninstall"
   ]
  }
 ],
 "metadata": {
  "kernelspec": {
   "display_name": "Python 3 (ipykernel)",
   "language": "python",
   "name": "python3"
  },
  "language_info": {
   "codemirror_mode": {
    "name": "ipython",
    "version": 3
   },
   "file_extension": ".py",
   "mimetype": "text/x-python",
   "name": "python",
   "nbconvert_exporter": "python",
   "pygments_lexer": "ipython3",
   "version": "3.9.2"
  }
 },
 "nbformat": 4,
 "nbformat_minor": 5
}
