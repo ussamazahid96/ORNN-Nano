{
 "cells": [
  {
   "cell_type": "markdown",
   "id": "4400c355",
   "metadata": {},
   "source": [
    "## Upload the .rbf\n",
    "\n",
    "Upload the .rbf file of ORNN accelerator using the provided `make` file. Make sure that all the 8 leds go high indicating that the accelerator rbf is uploaded."
   ]
  },
  {
   "cell_type": "code",
   "execution_count": 1,
   "id": "44740a4e",
   "metadata": {},
   "outputs": [
    {
     "name": "stdout",
     "output_type": "stream",
     "text": [
      "cp DE10_NANO.rbf /lib/firmware/\n",
      "dtbocfg.rb --install soc_system --dts soc_system.dts\n"
     ]
    }
   ],
   "source": [
    "!make install"
   ]
  },
  {
   "cell_type": "markdown",
   "id": "53aef629",
   "metadata": {},
   "source": [
    "## Necessary Imports"
   ]
  },
  {
   "cell_type": "code",
   "execution_count": 2,
   "id": "9c70283e",
   "metadata": {},
   "outputs": [],
   "source": [
    "import time\n",
    "import numpy as np\n",
    "from pycy import *\n",
    "from PIL import Image"
   ]
  },
  {
   "cell_type": "markdown",
   "id": "fa46186f",
   "metadata": {},
   "source": [
    "## Loading the MNIST dataset\n",
    "\n",
    "MNIST dataset used here is the same which was used for the csim of the accelerator. We will load the same dataset into numpy arrays"
   ]
  },
  {
   "cell_type": "code",
   "execution_count": 3,
   "id": "d1f76243",
   "metadata": {},
   "outputs": [],
   "source": [
    "def load_mnist_images():\n",
    "   with open(\"../Hardware/HLS/utils/mnist_data/t10k-images.idx3-ubyte\",\"rb\") as imgs:\n",
    "      data = np.frombuffer(imgs.read(), np.uint8)\n",
    "\n",
    "   header, data = data[:16], data[16:]\n",
    "   data = data.reshape(-1, 28, 28)/255.\n",
    "   data = 2*data-1\n",
    "   data = np.pad(data, ((0,0),(2,2),(2,2)), constant_values=(-1, -1))\n",
    "   return data\n",
    "\n",
    "\n",
    "def load_mnist_labels():\n",
    "   labels = []\n",
    "   with open(\"../Hardware/HLS/utils/mnist_data/t10k-labels.idx1-ubyte\",\"rb\") as lbl_file:\n",
    "       #read magic number and number of labels (MSB first) -> MNIST header\n",
    "       magicNum = int.from_bytes(lbl_file.read(4), byteorder=\"big\")\n",
    "       countLbl = int.from_bytes(lbl_file.read(4), byteorder=\"big\")\n",
    "       #now the labels are following byte-wise\n",
    "       for idx in range(countLbl):\n",
    "           labels.append(int.from_bytes(lbl_file.read(1), byteorder=\"big\"))\n",
    "       lbl_file.close()\n",
    "   return labels"
   ]
  },
  {
   "cell_type": "code",
   "execution_count": 4,
   "id": "a387d0e0",
   "metadata": {},
   "outputs": [
    {
     "name": "stdout",
     "output_type": "stream",
     "text": [
      "(10000, 32, 32) 10000\n"
     ]
    }
   ],
   "source": [
    "mnist_images = load_mnist_images()\n",
    "mnist_labels = load_mnist_labels()\n",
    "print(mnist_images.shape, len(mnist_labels))"
   ]
  },
  {
   "cell_type": "markdown",
   "id": "28a7a4f9",
   "metadata": {},
   "source": [
    "## Quantizing the Input\n",
    "\n",
    "Next we will define a function for quantizing the input image in signed 4-bits i.e., Q1.3 format and packing it to 64-bits. We will discuss it later in the section in defining io buffers."
   ]
  },
  {
   "cell_type": "code",
   "execution_count": 5,
   "id": "bd3e6bef",
   "metadata": {},
   "outputs": [],
   "source": [
    "def preprocess_image(input_image):\n",
    "   input_image = np.clip(input_image, -1, 1-2**-3)\n",
    "   input_image = np.round(input_image*2**3)\n",
    "   input_image = input_image.reshape(-1)\n",
    "   q_img = np.zeros(shape=(512,), dtype=np.uint8)\n",
    "   index = 0\n",
    "   for i in range(0, len(input_image), 2):\n",
    "      elem1 = int(input_image[i]) & 0xf\n",
    "      elem2 = int(input_image[i+1]) & 0xf\n",
    "      val = (elem2 << 4) | (elem1)\n",
    "      q_img[index] = val\n",
    "      index+=1\n",
    "   q_img = q_img.view(np.uint64)\n",
    "   return q_img"
   ]
  },
  {
   "cell_type": "markdown",
   "id": "6d4fc442",
   "metadata": {},
   "source": [
    "## Register Address of the Accelerator\n",
    "\n",
    "Here we will define the necessary register addresses for controlling the ORNN accelerator. These addresses are taken directly from the files `hps_0.h` and `ACCL_TOP_csr.h`."
   ]
  },
  {
   "cell_type": "code",
   "execution_count": 6,
   "id": "8043f11a",
   "metadata": {},
   "outputs": [],
   "source": [
    "accl_offset = 0xff200000\n",
    "start_reg = 0x8\n",
    "interrupt_enable_reg = 0x10\n",
    "interrupt_status_reg = 0x18\n",
    "input_buffer_reg = 0x20\n",
    "output_buffer_reg = 0x28\n",
    "seq_len_reg = 0x30"
   ]
  },
  {
   "cell_type": "markdown",
   "id": "57edb348",
   "metadata": {},
   "source": [
    "## Defining IO buffer\n",
    "\n",
    "We will not define contigious memory buffers for reading and writing from the accelerator. These buffers will hold the input which is to be passed to the accelerator, and the output scores given by the acclerator. Moreover these buffers will be 64-bit buffers as the width of the avalon bridge is 64-bits. THe `cma_buffer` class is defined in the `pycy.py` file."
   ]
  },
  {
   "cell_type": "code",
   "execution_count": 7,
   "id": "82c10ff2",
   "metadata": {},
   "outputs": [],
   "source": [
    "SEQ_LEN = 32\n",
    "INPUT_BW = 4\n",
    "OUTPUT_BW = 16\n",
    "ELEMENTS_IN = 32*SEQ_LEN*INPUT_BW//64 \n",
    "ELEMENTS_OUT = 16*SEQ_LEN*OUTPUT_BW//64\n",
    "array_a = cma_buffer(ELEMENTS_IN, np.uint64)\n",
    "array_b = cma_buffer(ELEMENTS_OUT, np.uint64)"
   ]
  },
  {
   "cell_type": "markdown",
   "id": "455d38f7",
   "metadata": {},
   "source": [
    "## Instantiating the driver\n",
    "\n",
    "Now we will used the class `Device_Driver` defined in the `pycy.py` file to create a python driver which allows us to interact with the accelerator with ease. This driver will be used to control the acclerator, pass the io buffers and setting the different input arguments. \n",
    "\n",
    "Moreover we will also pass the address of the cma buffers for input output to the accelerator."
   ]
  },
  {
   "cell_type": "code",
   "execution_count": 8,
   "id": "b71ddad3",
   "metadata": {},
   "outputs": [],
   "source": [
    "ACCL_TOP_csr = Device_Driver(accl_offset, 64)\n",
    "ACCL_TOP_csr.write(input_buffer_reg,  array_a.physical_address)\n",
    "ACCL_TOP_csr.write(output_buffer_reg, array_b.physical_address)\n",
    "ACCL_TOP_csr.write(seq_len_reg, SEQ_LEN)\n",
    "ACCL_TOP_csr.write(interrupt_enable_reg, 0)\n",
    "ACCL_TOP_csr.write(interrupt_status_reg, 0x00)\n"
   ]
  },
  {
   "cell_type": "markdown",
   "id": "f579da13",
   "metadata": {},
   "source": [
    "# Single Image Test\n",
    "\n",
    "Now we are ready to pass the input and run the test on a single image. First lets take the first image of the dataset and visualize it."
   ]
  },
  {
   "cell_type": "code",
   "execution_count": 9,
   "id": "e83ca625",
   "metadata": {},
   "outputs": [
    {
     "data": {
      "image/png": "[encoded data removed]",
      "text/plain": [
       "<PIL.Image.Image image mode=L size=128x128 at 0xAE87F1A8>"
      ]
     },
     "metadata": {},
     "output_type": "display_data"
    }
   ],
   "source": [
    "image = mnist_images[0]\n",
    "image = (image+1)/2\n",
    "image *= 255\n",
    "image = image.astype(np.uint8)\n",
    "im = Image.fromarray(image, 'L')\n",
    "im = im.resize((128, 128))\n",
    "im.show()"
   ]
  },
  {
   "cell_type": "markdown",
   "id": "8fd26910",
   "metadata": {},
   "source": [
    "Now lets see how the image looks like after quantizing it to 4-bits (Not much difference)."
   ]
  },
  {
   "cell_type": "code",
   "execution_count": 10,
   "id": "214f9735",
   "metadata": {},
   "outputs": [
    {
     "data": {
      "image/png": "[encoded data removed]",
      "text/plain": [
       "<PIL.Image.Image image mode=L size=128x128 at 0xAE7E1D18>"
      ]
     },
     "metadata": {},
     "output_type": "display_data"
    }
   ],
   "source": [
    "image = mnist_images[0]\n",
    "image = np.clip(image, -1, 1-2**-3)\n",
    "image = np.round(image*2**3)/2**3\n",
    "image = (image+1)/2\n",
    "image *= 255\n",
    "image = image.astype(np.uint8)\n",
    "im = Image.fromarray(image, 'L')\n",
    "im = im.resize((128, 128))\n",
    "im.show()"
   ]
  },
  {
   "cell_type": "markdown",
   "id": "4d78c2fa",
   "metadata": {},
   "source": [
    "Now we will pass this image to the preprocessing function and put it into the input buffer of the accelerator."
   ]
  },
  {
   "cell_type": "code",
   "execution_count": 11,
   "id": "5c07a984",
   "metadata": {},
   "outputs": [],
   "source": [
    "image_no = 0\n",
    "image = mnist_images[image_no]\n",
    "label = mnist_labels[image_no]\n",
    "q_img = preprocess_image(image)\n",
    "array_a.write(q_img)"
   ]
  },
  {
   "cell_type": "markdown",
   "id": "488a4f78",
   "metadata": {},
   "source": [
    "## Start the accelerator\n",
    "\n",
    "Lets now start the accelerator by writing 1 to the start register and wait until its complete."
   ]
  },
  {
   "cell_type": "code",
   "execution_count": 12,
   "id": "82c1e773",
   "metadata": {},
   "outputs": [],
   "source": [
    "ACCL_TOP_csr.write(start_reg, 1)\n",
    "start_time = time.time()\n",
    "while(not (ACCL_TOP_csr.read(interrupt_status_reg) & 0x2)):\n",
    "    pass"
   ]
  },
  {
   "cell_type": "markdown",
   "id": "2054a790",
   "metadata": {},
   "source": [
    "Let look at the predicted value now which is written to the output buffer by the accelerator. Rememeber that the output type of the accelerator is values is 16-bits i.e., Q6.10 format."
   ]
  },
  {
   "cell_type": "code",
   "execution_count": 13,
   "id": "dddaf3b7",
   "metadata": {},
   "outputs": [
    {
     "data": {
      "image/png": "[encoded data removed]",
      "text/plain": [
       "<PIL.Image.Image image mode=L size=128x128 at 0xAE727A48>"
      ]
     },
     "metadata": {},
     "output_type": "display_data"
    },
    {
     "name": "stdout",
     "output_type": "stream",
     "text": [
      "Prediction = 7\n",
      "\n"
     ]
    }
   ],
   "source": [
    "pred = array_b.read().view(np.int16)\n",
    "pred = pred/2**10\n",
    "max_val = 0\n",
    "for i in range(SEQ_LEN):\n",
    "    max_val = 0\n",
    "    max_score = pred[i*16]\n",
    "    for j in range(16):\n",
    "        if j<10:\n",
    "            if pred[i*16+j] >= max_score:\n",
    "                max_score = pred[i*16+j]\n",
    "                max_val = j\n",
    "\n",
    "image = (image+1)/2\n",
    "image *= 255\n",
    "image = image.astype(np.uint8)\n",
    "im = Image.fromarray(image, 'L')\n",
    "im = im.resize((128, 128))\n",
    "im.show()\n",
    "print(\"Prediction = {}\\n\".format(label, max_val))"
   ]
  },
  {
   "cell_type": "markdown",
   "id": "fe2c2ac4",
   "metadata": {},
   "source": [
    "# Whole dataset Test and FPS"
   ]
  },
  {
   "cell_type": "code",
   "execution_count": 14,
   "id": "61047395",
   "metadata": {},
   "outputs": [
    {
     "name": "stdout",
     "output_type": "stream",
     "text": [
      "Accuracy on [10000/10000] images = 90.71%\n",
      "Images per second (FPS) = 1454.72\n"
     ]
    }
   ],
   "source": [
    "correct = 0\n",
    "time_tot = 0\n",
    "for k in range(10000):\n",
    "    img = mnist_images[k]\n",
    "    lab = mnist_labels[k]\n",
    "    q_img = preprocess_image(img)\n",
    "    array_a.write(q_img)\n",
    "    ACCL_TOP_csr.write(start_reg, 1)\n",
    "    start_time = time.time()\n",
    "    while(not (ACCL_TOP_csr.read(0x18) & 0x2)):\n",
    "        pass\n",
    "    time_end = time.time()-start_time\n",
    "    pred = array_b.read().view(np.int16)\n",
    "    pred = pred/2**10\n",
    "    for i in range(SEQ_LEN):\n",
    "        max_val = 0\n",
    "        max_score = pred[i*16]\n",
    "        for j in range(16):\n",
    "            if j<10:\n",
    "                if pred[i*16+j] >= max_score:\n",
    "                    max_score = pred[i*16+j]\n",
    "                    max_val = j\n",
    "    if lab == max_val:\n",
    "        correct += 1\n",
    "    time_tot += time_end\n",
    "    print(\"Accuracy on [{}/10000] images = {:.2f}%\".format(k+1, (correct/10000)*100), end='\\r')\n",
    "print(\"\\nImages per second (FPS) = {:.2f}\".format(10000/time_tot))\n"
   ]
  },
  {
   "cell_type": "markdown",
   "id": "df87f608",
   "metadata": {},
   "source": [
    "## Free the Accelerator"
   ]
  },
  {
   "cell_type": "code",
   "execution_count": 15,
   "id": "c7a6ead4",
   "metadata": {},
   "outputs": [
    {
     "name": "stdout",
     "output_type": "stream",
     "text": [
      "dtbocfg.rb --remove soc_system\n",
      "rm -f /lib/firmware/DE10_NANO.rbf\n"
     ]
    }
   ],
   "source": [
    "!make uninstall"
   ]
  }
 ],
 "metadata": {
  "kernelspec": {
   "display_name": "Python 3 (ipykernel)",
   "language": "python",
   "name": "python3"
  },
  "language_info": {
   "codemirror_mode": {
    "name": "ipython",
    "version": 3
   },
   "file_extension": ".py",
   "mimetype": "text/x-python",
   "name": "python",
   "nbconvert_exporter": "python",
   "pygments_lexer": "ipython3",
   "version": "3.9.2"
  }
 },
 "nbformat": 4,
 "nbformat_minor": 5
}
